{
 "cells": [
  {
   "cell_type": "markdown",
   "id": "ab9673ac",
   "metadata": {},
   "source": [
    "**Phase 4 Project: TIME SERIES FORECAST ON SUPERSTORE SALES**\n",
    "* Group 27 members: Elizabeth Nyambura, Mark Kimathi, Sellah Otieno \n",
    "* Student Pace: Part time"
   ]
  },
  {
   "cell_type": "code",
   "execution_count": 1,
   "id": "84cbc22a",
   "metadata": {
    "scrolled": false
   },
   "outputs": [
    {
     "data": {
      "image/png": "[encoded data removed]",
      "text/plain": [
       "<IPython.core.display.Image object>"
      ]
     },
     "metadata": {},
     "output_type": "display_data"
    }
   ],
   "source": [
    "from IPython.display import display, Image\n",
    "image_path = 'C:/Users/Sellah/Desktop/Moringa/phase_4_project/Logo.png'\n",
    "display(Image(filename=image_path))"
   ]
  },
  {
   "cell_type": "markdown",
   "id": "0ffa61fe",
   "metadata": {},
   "source": [
    "## Business Understanding and Requirement\n",
    "### Introduction\n",
    "Superstore is a very large supermarket based in the United States of America with presence in all the states. They are best known for sale of office supplies, furniture and Technology supplies such as phones. Using Historical data, the company wants to forecast their future sales so as to plan and make informed decisions about future operations, marketing, and resource allocation. \n",
    "\n",
    "Accuracy in sale predictition helps firms to adjust their strategy accordingly, anticipate future demand and identify potential problems or opportunities. Sale forecasting is a very key task that businesses need to embrace.\n",
    "### Objective of the Study\n",
    "\n",
    "This project aims to utilize time series analysis techniques on sales data from a super store. The primary goal is to forecast future sales, identify trends, patterns, and seasonality within the sales data to provide actionable insights for inventory management, marketing strategies, and overall business performance improvement."
   ]
  },
  {
   "cell_type": "markdown",
   "id": "0b09f6fe",
   "metadata": {},
   "source": [
    "## Data Understanding\n",
    "\n",
    "The dataset contains the historical order details of the customers of the superstore in all the stores in the United States. This is monthly data for shipped goods from the month of July in the year 2014 to May 2018.\n",
    "\n",
    "The dataset contains 9994 rows and 21 Columns. Below is the description of each column:\n",
    "\n",
    "\n",
    "* __Order ID__: Unique identifier for each order.\n",
    "* __Order Date__: Date when the order was placed.\n",
    "* __Ship Date__: Date when the order was shipped.\n",
    "* __Ship Mode__: Shipping mode used for the order (e.g., First Class, Standard Class, Second Class, Same Day).\n",
    "* __Customer ID__: Unique identifier for each customer.\n",
    "* __Customer Name__: Name of the customer.\n",
    "* __Segment__: Segmentation of customers (Consumer, Corporate, Home Office).\n",
    "* __Country__: Country where the store operates (contains only United States).\n",
    "* __City__: City where the order was shipped.\n",
    "* __State__: State where the order was shipped.\n",
    "* __Postal Code__: Postal code of the shipping address.\n",
    "* __Region__: Geographical region of the United States (e.g., East, West, North, South).\n",
    "* __Product ID__: Unique identifier for each product.\n",
    "* __Category__: Category of the product (Furniture, Office Supplies, Technology).\n",
    "* __Sub-Category__: Sub-category of the product (Bookcases, Chairs, Labels, Tables, Storage, Furnishings, Art, Phones, Binders, Paper, Appliances, Accessories, Copiers, Envelopes, Fasteners, Machines, Supplies).\n",
    "* __Product Name__: Name of the product.\n",
    "* __Sales__: Total sales revenue for the order.\n",
    "* __Quantity__: Quantity of products ordered.\n",
    "* __Discount__: Percentage of discount applied to the order.\n",
    "* __Profit__: Profit generated from the order.\n"
   ]
  },
  {
   "cell_type": "code",
   "execution_count": 2,
   "id": "7f39983e",
   "metadata": {},
   "outputs": [],
   "source": [
    "# importing the relevant libraries\n",
    "import pandas as pd\n",
    "import numpy as np\n",
    "import matplotlib.pyplot as plt\n",
    "%matplotlib inline\n",
    "import seaborn as sns\n",
    "from statsmodels.tsa.stattools import adfuller\n",
    "from statsmodels.tsa.arima.model import ARIMA\n",
    "from statsmodels.tsa.statespace.sarimax import SARIMAX\n",
    "from prophet import Prophet\n",
    "import pmdarima as pm\n",
    "import warnings\n",
    "warnings.filterwarnings(\"ignore\")"
   ]
  },
  {
   "cell_type": "code",
   "execution_count": 3,
   "id": "02c1c0cc",
   "metadata": {},
   "outputs": [
    {
     "data": {
      "text/html": [
       "<div>\n",
       "<style scoped>\n",
       "    .dataframe tbody tr th:only-of-type {\n",
       "        vertical-align: middle;\n",
       "    }\n",
       "\n",
       "    .dataframe tbody tr th {\n",
       "        vertical-align: top;\n",
       "    }\n",
       "\n",
       "    .dataframe thead th {\n",
       "        text-align: right;\n",
       "    }\n",
       "</style>\n",
       "<table border=\"1\" class=\"dataframe\">\n",
       "  <thead>\n",
       "    <tr style=\"text-align: right;\">\n",
       "      <th></th>\n",
       "      <th>Row ID</th>\n",
       "      <th>Order ID</th>\n",
       "      <th>Order Date</th>\n",
       "      <th>Ship Date</th>\n",
       "      <th>Ship Mode</th>\n",
       "      <th>Customer ID</th>\n",
       "      <th>Customer Name</th>\n",
       "      <th>Segment</th>\n",
       "      <th>Country</th>\n",
       "      <th>City</th>\n",
       "      <th>...</th>\n",
       "      <th>Postal Code</th>\n",
       "      <th>Region</th>\n",
       "      <th>Product ID</th>\n",
       "      <th>Category</th>\n",
       "      <th>Sub-Category</th>\n",
       "      <th>Product Name</th>\n",
       "      <th>Sales</th>\n",
       "      <th>Quantity</th>\n",
       "      <th>Discount</th>\n",
       "      <th>Profit</th>\n",
       "    </tr>\n",
       "  </thead>\n",
       "  <tbody>\n",
       "    <tr>\n",
       "      <th>0</th>\n",
       "      <td>1</td>\n",
       "      <td>CA-2016-152156</td>\n",
       "      <td>2016-11-08</td>\n",
       "      <td>2016-11-11</td>\n",
       "      <td>Second Class</td>\n",
       "      <td>CG-12520</td>\n",
       "      <td>Claire Gute</td>\n",
       "      <td>Consumer</td>\n",
       "      <td>United States</td>\n",
       "      <td>Henderson</td>\n",
       "      <td>...</td>\n",
       "      <td>42420</td>\n",
       "      <td>South</td>\n",
       "      <td>FUR-BO-10001798</td>\n",
       "      <td>Furniture</td>\n",
       "      <td>Bookcases</td>\n",
       "      <td>Bush Somerset Collection Bookcase</td>\n",
       "      <td>261.9600</td>\n",
       "      <td>2</td>\n",
       "      <td>0.00</td>\n",
       "      <td>41.9136</td>\n",
       "    </tr>\n",
       "    <tr>\n",
       "      <th>1</th>\n",
       "      <td>2</td>\n",
       "      <td>CA-2016-152156</td>\n",
       "      <td>2016-11-08</td>\n",
       "      <td>2016-11-11</td>\n",
       "      <td>Second Class</td>\n",
       "      <td>CG-12520</td>\n",
       "      <td>Claire Gute</td>\n",
       "      <td>Consumer</td>\n",
       "      <td>United States</td>\n",
       "      <td>Henderson</td>\n",
       "      <td>...</td>\n",
       "      <td>42420</td>\n",
       "      <td>South</td>\n",
       "      <td>FUR-CH-10000454</td>\n",
       "      <td>Furniture</td>\n",
       "      <td>Chairs</td>\n",
       "      <td>Hon Deluxe Fabric Upholstered Stacking Chairs,...</td>\n",
       "      <td>731.9400</td>\n",
       "      <td>3</td>\n",
       "      <td>0.00</td>\n",
       "      <td>219.5820</td>\n",
       "    </tr>\n",
       "    <tr>\n",
       "      <th>2</th>\n",
       "      <td>3</td>\n",
       "      <td>CA-2016-138688</td>\n",
       "      <td>2016-06-12</td>\n",
       "      <td>2016-06-16</td>\n",
       "      <td>Second Class</td>\n",
       "      <td>DV-13045</td>\n",
       "      <td>Darrin Van Huff</td>\n",
       "      <td>Corporate</td>\n",
       "      <td>United States</td>\n",
       "      <td>Los Angeles</td>\n",
       "      <td>...</td>\n",
       "      <td>90036</td>\n",
       "      <td>West</td>\n",
       "      <td>OFF-LA-10000240</td>\n",
       "      <td>Office Supplies</td>\n",
       "      <td>Labels</td>\n",
       "      <td>Self-Adhesive Address Labels for Typewriters b...</td>\n",
       "      <td>14.6200</td>\n",
       "      <td>2</td>\n",
       "      <td>0.00</td>\n",
       "      <td>6.8714</td>\n",
       "    </tr>\n",
       "    <tr>\n",
       "      <th>3</th>\n",
       "      <td>4</td>\n",
       "      <td>US-2015-108966</td>\n",
       "      <td>2015-10-11</td>\n",
       "      <td>2015-10-18</td>\n",
       "      <td>Standard Class</td>\n",
       "      <td>SO-20335</td>\n",
       "      <td>Sean O'Donnell</td>\n",
       "      <td>Consumer</td>\n",
       "      <td>United States</td>\n",
       "      <td>Fort Lauderdale</td>\n",
       "      <td>...</td>\n",
       "      <td>33311</td>\n",
       "      <td>South</td>\n",
       "      <td>FUR-TA-10000577</td>\n",
       "      <td>Furniture</td>\n",
       "      <td>Tables</td>\n",
       "      <td>Bretford CR4500 Series Slim Rectangular Table</td>\n",
       "      <td>957.5775</td>\n",
       "      <td>5</td>\n",
       "      <td>0.45</td>\n",
       "      <td>-383.0310</td>\n",
       "    </tr>\n",
       "    <tr>\n",
       "      <th>4</th>\n",
       "      <td>5</td>\n",
       "      <td>US-2015-108966</td>\n",
       "      <td>2015-10-11</td>\n",
       "      <td>2015-10-18</td>\n",
       "      <td>Standard Class</td>\n",
       "      <td>SO-20335</td>\n",
       "      <td>Sean O'Donnell</td>\n",
       "      <td>Consumer</td>\n",
       "      <td>United States</td>\n",
       "      <td>Fort Lauderdale</td>\n",
       "      <td>...</td>\n",
       "      <td>33311</td>\n",
       "      <td>South</td>\n",
       "      <td>OFF-ST-10000760</td>\n",
       "      <td>Office Supplies</td>\n",
       "      <td>Storage</td>\n",
       "      <td>Eldon Fold 'N Roll Cart System</td>\n",
       "      <td>22.3680</td>\n",
       "      <td>2</td>\n",
       "      <td>0.20</td>\n",
       "      <td>2.5164</td>\n",
       "    </tr>\n",
       "  </tbody>\n",
       "</table>\n",
       "<p>5 rows × 21 columns</p>\n",
       "</div>"
      ],
      "text/plain": [
       "   Row ID        Order ID Order Date  Ship Date       Ship Mode Customer ID  \\\n",
       "0       1  CA-2016-152156 2016-11-08 2016-11-11    Second Class    CG-12520   \n",
       "1       2  CA-2016-152156 2016-11-08 2016-11-11    Second Class    CG-12520   \n",
       "2       3  CA-2016-138688 2016-06-12 2016-06-16    Second Class    DV-13045   \n",
       "3       4  US-2015-108966 2015-10-11 2015-10-18  Standard Class    SO-20335   \n",
       "4       5  US-2015-108966 2015-10-11 2015-10-18  Standard Class    SO-20335   \n",
       "\n",
       "     Customer Name    Segment        Country             City  ...  \\\n",
       "0      Claire Gute   Consumer  United States        Henderson  ...   \n",
       "1      Claire Gute   Consumer  United States        Henderson  ...   \n",
       "2  Darrin Van Huff  Corporate  United States      Los Angeles  ...   \n",
       "3   Sean O'Donnell   Consumer  United States  Fort Lauderdale  ...   \n",
       "4   Sean O'Donnell   Consumer  United States  Fort Lauderdale  ...   \n",
       "\n",
       "  Postal Code  Region       Product ID         Category Sub-Category  \\\n",
       "0       42420   South  FUR-BO-10001798        Furniture    Bookcases   \n",
       "1       42420   South  FUR-CH-10000454        Furniture       Chairs   \n",
       "2       90036    West  OFF-LA-10000240  Office Supplies       Labels   \n",
       "3       33311   South  FUR-TA-10000577        Furniture       Tables   \n",
       "4       33311   South  OFF-ST-10000760  Office Supplies      Storage   \n",
       "\n",
       "                                        Product Name     Sales  Quantity  \\\n",
       "0                  Bush Somerset Collection Bookcase  261.9600         2   \n",
       "1  Hon Deluxe Fabric Upholstered Stacking Chairs,...  731.9400         3   \n",
       "2  Self-Adhesive Address Labels for Typewriters b...   14.6200         2   \n",
       "3      Bretford CR4500 Series Slim Rectangular Table  957.5775         5   \n",
       "4                     Eldon Fold 'N Roll Cart System   22.3680         2   \n",
       "\n",
       "   Discount    Profit  \n",
       "0      0.00   41.9136  \n",
       "1      0.00  219.5820  \n",
       "2      0.00    6.8714  \n",
       "3      0.45 -383.0310  \n",
       "4      0.20    2.5164  \n",
       "\n",
       "[5 rows x 21 columns]"
      ]
     },
     "execution_count": 3,
     "metadata": {},
     "output_type": "execute_result"
    }
   ],
   "source": [
    "### Reading and previewing the data\n",
    "df = pd.read_excel('Superstore.xls')\n",
    "df.head()"
   ]
  },
  {
   "cell_type": "code",
   "execution_count": 4,
   "id": "91b06b57",
   "metadata": {},
   "outputs": [
    {
     "data": {
      "text/html": [
       "<div>\n",
       "<style scoped>\n",
       "    .dataframe tbody tr th:only-of-type {\n",
       "        vertical-align: middle;\n",
       "    }\n",
       "\n",
       "    .dataframe tbody tr th {\n",
       "        vertical-align: top;\n",
       "    }\n",
       "\n",
       "    .dataframe thead th {\n",
       "        text-align: right;\n",
       "    }\n",
       "</style>\n",
       "<table border=\"1\" class=\"dataframe\">\n",
       "  <thead>\n",
       "    <tr style=\"text-align: right;\">\n",
       "      <th></th>\n",
       "      <th>Row ID</th>\n",
       "      <th>Order Date</th>\n",
       "      <th>Ship Date</th>\n",
       "      <th>Postal Code</th>\n",
       "      <th>Sales</th>\n",
       "      <th>Quantity</th>\n",
       "      <th>Discount</th>\n",
       "      <th>Profit</th>\n",
       "    </tr>\n",
       "  </thead>\n",
       "  <tbody>\n",
       "    <tr>\n",
       "      <th>count</th>\n",
       "      <td>9994.000000</td>\n",
       "      <td>9994</td>\n",
       "      <td>9994</td>\n",
       "      <td>9994.000000</td>\n",
       "      <td>9994.000000</td>\n",
       "      <td>9994.000000</td>\n",
       "      <td>9994.000000</td>\n",
       "      <td>9994.000000</td>\n",
       "    </tr>\n",
       "    <tr>\n",
       "      <th>mean</th>\n",
       "      <td>4997.500000</td>\n",
       "      <td>2016-04-30 00:07:12.259355648</td>\n",
       "      <td>2016-05-03 23:06:58.571142912</td>\n",
       "      <td>55190.379428</td>\n",
       "      <td>229.858001</td>\n",
       "      <td>3.789574</td>\n",
       "      <td>0.156203</td>\n",
       "      <td>28.656896</td>\n",
       "    </tr>\n",
       "    <tr>\n",
       "      <th>min</th>\n",
       "      <td>1.000000</td>\n",
       "      <td>2014-01-03 00:00:00</td>\n",
       "      <td>2014-01-07 00:00:00</td>\n",
       "      <td>1040.000000</td>\n",
       "      <td>0.444000</td>\n",
       "      <td>1.000000</td>\n",
       "      <td>0.000000</td>\n",
       "      <td>-6599.978000</td>\n",
       "    </tr>\n",
       "    <tr>\n",
       "      <th>25%</th>\n",
       "      <td>2499.250000</td>\n",
       "      <td>2015-05-23 00:00:00</td>\n",
       "      <td>2015-05-27 00:00:00</td>\n",
       "      <td>23223.000000</td>\n",
       "      <td>17.280000</td>\n",
       "      <td>2.000000</td>\n",
       "      <td>0.000000</td>\n",
       "      <td>1.728750</td>\n",
       "    </tr>\n",
       "    <tr>\n",
       "      <th>50%</th>\n",
       "      <td>4997.500000</td>\n",
       "      <td>2016-06-26 00:00:00</td>\n",
       "      <td>2016-06-29 00:00:00</td>\n",
       "      <td>56430.500000</td>\n",
       "      <td>54.490000</td>\n",
       "      <td>3.000000</td>\n",
       "      <td>0.200000</td>\n",
       "      <td>8.666500</td>\n",
       "    </tr>\n",
       "    <tr>\n",
       "      <th>75%</th>\n",
       "      <td>7495.750000</td>\n",
       "      <td>2017-05-14 00:00:00</td>\n",
       "      <td>2017-05-18 00:00:00</td>\n",
       "      <td>90008.000000</td>\n",
       "      <td>209.940000</td>\n",
       "      <td>5.000000</td>\n",
       "      <td>0.200000</td>\n",
       "      <td>29.364000</td>\n",
       "    </tr>\n",
       "    <tr>\n",
       "      <th>max</th>\n",
       "      <td>9994.000000</td>\n",
       "      <td>2017-12-30 00:00:00</td>\n",
       "      <td>2018-01-05 00:00:00</td>\n",
       "      <td>99301.000000</td>\n",
       "      <td>22638.480000</td>\n",
       "      <td>14.000000</td>\n",
       "      <td>0.800000</td>\n",
       "      <td>8399.976000</td>\n",
       "    </tr>\n",
       "    <tr>\n",
       "      <th>std</th>\n",
       "      <td>2885.163629</td>\n",
       "      <td>NaN</td>\n",
       "      <td>NaN</td>\n",
       "      <td>32063.693350</td>\n",
       "      <td>623.245101</td>\n",
       "      <td>2.225110</td>\n",
       "      <td>0.206452</td>\n",
       "      <td>234.260108</td>\n",
       "    </tr>\n",
       "  </tbody>\n",
       "</table>\n",
       "</div>"
      ],
      "text/plain": [
       "            Row ID                     Order Date  \\\n",
       "count  9994.000000                           9994   \n",
       "mean   4997.500000  2016-04-30 00:07:12.259355648   \n",
       "min       1.000000            2014-01-03 00:00:00   \n",
       "25%    2499.250000            2015-05-23 00:00:00   \n",
       "50%    4997.500000            2016-06-26 00:00:00   \n",
       "75%    7495.750000            2017-05-14 00:00:00   \n",
       "max    9994.000000            2017-12-30 00:00:00   \n",
       "std    2885.163629                            NaN   \n",
       "\n",
       "                           Ship Date   Postal Code         Sales     Quantity  \\\n",
       "count                           9994   9994.000000   9994.000000  9994.000000   \n",
       "mean   2016-05-03 23:06:58.571142912  55190.379428    229.858001     3.789574   \n",
       "min              2014-01-07 00:00:00   1040.000000      0.444000     1.000000   \n",
       "25%              2015-05-27 00:00:00  23223.000000     17.280000     2.000000   \n",
       "50%              2016-06-29 00:00:00  56430.500000     54.490000     3.000000   \n",
       "75%              2017-05-18 00:00:00  90008.000000    209.940000     5.000000   \n",
       "max              2018-01-05 00:00:00  99301.000000  22638.480000    14.000000   \n",
       "std                              NaN  32063.693350    623.245101     2.225110   \n",
       "\n",
       "          Discount       Profit  \n",
       "count  9994.000000  9994.000000  \n",
       "mean      0.156203    28.656896  \n",
       "min       0.000000 -6599.978000  \n",
       "25%       0.000000     1.728750  \n",
       "50%       0.200000     8.666500  \n",
       "75%       0.200000    29.364000  \n",
       "max       0.800000  8399.976000  \n",
       "std       0.206452   234.260108  "
      ]
     },
     "execution_count": 4,
     "metadata": {},
     "output_type": "execute_result"
    }
   ],
   "source": [
    "df.describe()"
   ]
  },
  {
   "cell_type": "code",
   "execution_count": 5,
   "id": "05594d2b",
   "metadata": {},
   "outputs": [
    {
     "name": "stdout",
     "output_type": "stream",
     "text": [
      "<class 'pandas.core.frame.DataFrame'>\n",
      "RangeIndex: 9994 entries, 0 to 9993\n",
      "Data columns (total 21 columns):\n",
      " #   Column         Non-Null Count  Dtype         \n",
      "---  ------         --------------  -----         \n",
      " 0   Row ID         9994 non-null   int64         \n",
      " 1   Order ID       9994 non-null   object        \n",
      " 2   Order Date     9994 non-null   datetime64[ns]\n",
      " 3   Ship Date      9994 non-null   datetime64[ns]\n",
      " 4   Ship Mode      9994 non-null   object        \n",
      " 5   Customer ID    9994 non-null   object        \n",
      " 6   Customer Name  9994 non-null   object        \n",
      " 7   Segment        9994 non-null   object        \n",
      " 8   Country        9994 non-null   object        \n",
      " 9   City           9994 non-null   object        \n",
      " 10  State          9994 non-null   object        \n",
      " 11  Postal Code    9994 non-null   int64         \n",
      " 12  Region         9994 non-null   object        \n",
      " 13  Product ID     9994 non-null   object        \n",
      " 14  Category       9994 non-null   object        \n",
      " 15  Sub-Category   9994 non-null   object        \n",
      " 16  Product Name   9994 non-null   object        \n",
      " 17  Sales          9994 non-null   float64       \n",
      " 18  Quantity       9994 non-null   int64         \n",
      " 19  Discount       9994 non-null   float64       \n",
      " 20  Profit         9994 non-null   float64       \n",
      "dtypes: datetime64[ns](2), float64(3), int64(3), object(13)\n",
      "memory usage: 1.6+ MB\n"
     ]
    }
   ],
   "source": [
    "df.info()"
   ]
  },
  {
   "cell_type": "markdown",
   "id": "32970ac4",
   "metadata": {},
   "source": [
    "We observe the following key points from the summary information:\n",
    "1. The dataset includes colums with different data types. All columns appear to be in the expected data type.\n",
    "* int64: There are three columns of integer type: Row ID, Postal Code, and Quantity.\n",
    "* float64: Three columns (Sales, Discount, Profit) are of floating-point numeric type.\n",
    "* object: Thirteen columns are of object type, generally representing categorical or textual data.\n",
    "* datetime64[ns]: Two columns (Order Date, Ship Date) are of datetime type, representing dates and times.\n",
    "\n",
    "2.  Every column within the dataset comprises 9994 non-null entries. This implies the absence of any missing values throughout the columns."
   ]
  },
  {
   "cell_type": "code",
   "execution_count": 6,
   "id": "99f2c84b",
   "metadata": {},
   "outputs": [
    {
     "data": {
      "text/plain": [
       "(9994, 21)"
      ]
     },
     "execution_count": 6,
     "metadata": {},
     "output_type": "execute_result"
    }
   ],
   "source": [
    "df.shape"
   ]
  },
  {
   "cell_type": "markdown",
   "id": "5a9e0ad1",
   "metadata": {},
   "source": [
    "The dataset contains 9994 rows and 21 Columns. Below are the names of each column."
   ]
  },
  {
   "cell_type": "code",
   "execution_count": 7,
   "id": "c59fe4d8",
   "metadata": {},
   "outputs": [
    {
     "data": {
      "text/plain": [
       "Index(['Row ID', 'Order ID', 'Order Date', 'Ship Date', 'Ship Mode',\n",
       "       'Customer ID', 'Customer Name', 'Segment', 'Country', 'City', 'State',\n",
       "       'Postal Code', 'Region', 'Product ID', 'Category', 'Sub-Category',\n",
       "       'Product Name', 'Sales', 'Quantity', 'Discount', 'Profit'],\n",
       "      dtype='object')"
      ]
     },
     "execution_count": 7,
     "metadata": {},
     "output_type": "execute_result"
    }
   ],
   "source": [
    "df.columns"
   ]
  },
  {
   "cell_type": "markdown",
   "id": "558eac23",
   "metadata": {},
   "source": [
    "### Data Cleaning and Pre-processing"
   ]
  },
  {
   "cell_type": "code",
   "execution_count": 8,
   "id": "3024241b",
   "metadata": {},
   "outputs": [
    {
     "data": {
      "text/plain": [
       "Row ID           0\n",
       "Order ID         0\n",
       "Order Date       0\n",
       "Ship Date        0\n",
       "Ship Mode        0\n",
       "Customer ID      0\n",
       "Customer Name    0\n",
       "Segment          0\n",
       "Country          0\n",
       "City             0\n",
       "State            0\n",
       "Postal Code      0\n",
       "Region           0\n",
       "Product ID       0\n",
       "Category         0\n",
       "Sub-Category     0\n",
       "Product Name     0\n",
       "Sales            0\n",
       "Quantity         0\n",
       "Discount         0\n",
       "Profit           0\n",
       "dtype: int64"
      ]
     },
     "execution_count": 8,
     "metadata": {},
     "output_type": "execute_result"
    }
   ],
   "source": [
    "#Checking for null values\n",
    "df.isnull().sum()"
   ]
  },
  {
   "cell_type": "markdown",
   "id": "38dda1d8",
   "metadata": {},
   "source": [
    "From the above cell we note that our data has no missing values."
   ]
  },
  {
   "cell_type": "code",
   "execution_count": 9,
   "id": "31711157",
   "metadata": {},
   "outputs": [
    {
     "data": {
      "text/plain": [
       "0"
      ]
     },
     "execution_count": 9,
     "metadata": {},
     "output_type": "execute_result"
    }
   ],
   "source": [
    "#Checking for duplicates\n",
    "df.duplicated().sum()"
   ]
  },
  {
   "cell_type": "markdown",
   "id": "91467d6e",
   "metadata": {},
   "source": [
    "From the above cell our data has no duplicated rows"
   ]
  },
  {
   "cell_type": "markdown",
   "id": "185cf9bf",
   "metadata": {},
   "source": [
    "### Exploratory Data Analysis"
   ]
  },
  {
   "cell_type": "code",
   "execution_count": 10,
   "id": "d672ea1f",
   "metadata": {},
   "outputs": [
    {
     "data": {
      "text/html": [
       "<div>\n",
       "<style scoped>\n",
       "    .dataframe tbody tr th:only-of-type {\n",
       "        vertical-align: middle;\n",
       "    }\n",
       "\n",
       "    .dataframe tbody tr th {\n",
       "        vertical-align: top;\n",
       "    }\n",
       "\n",
       "    .dataframe thead th {\n",
       "        text-align: right;\n",
       "    }\n",
       "</style>\n",
       "<table border=\"1\" class=\"dataframe\">\n",
       "  <thead>\n",
       "    <tr style=\"text-align: right;\">\n",
       "      <th></th>\n",
       "      <th>Segment</th>\n",
       "      <th>Sales</th>\n",
       "    </tr>\n",
       "  </thead>\n",
       "  <tbody>\n",
       "    <tr>\n",
       "      <th>0</th>\n",
       "      <td>Consumer</td>\n",
       "      <td>1.161401e+06</td>\n",
       "    </tr>\n",
       "    <tr>\n",
       "      <th>1</th>\n",
       "      <td>Corporate</td>\n",
       "      <td>7.061464e+05</td>\n",
       "    </tr>\n",
       "    <tr>\n",
       "      <th>2</th>\n",
       "      <td>Home Office</td>\n",
       "      <td>4.296531e+05</td>\n",
       "    </tr>\n",
       "  </tbody>\n",
       "</table>\n",
       "</div>"
      ],
      "text/plain": [
       "       Segment         Sales\n",
       "0     Consumer  1.161401e+06\n",
       "1    Corporate  7.061464e+05\n",
       "2  Home Office  4.296531e+05"
      ]
     },
     "execution_count": 10,
     "metadata": {},
     "output_type": "execute_result"
    }
   ],
   "source": [
    "# Grouping the data by 'Segment' and calculating the total sales for each segment\n",
    "segment_sales = df.groupby('Segment')['Sales'].sum().reset_index()\n",
    "segment_sales"
   ]
  },
  {
   "cell_type": "code",
   "execution_count": 11,
   "id": "8550beb3",
   "metadata": {},
   "outputs": [
    {
     "data": {
      "image/png": "[encoded data removed]",
      "text/plain": [
       "<Figure size 800x600 with 1 Axes>"
      ]
     },
     "metadata": {},
     "output_type": "display_data"
    }
   ],
   "source": [
    "# Plot the bar chart\n",
    "plt.figure(figsize=(8, 6))\n",
    "sns.barplot(x='Segment', y='Sales', data=segment_sales, palette='viridis')\n",
    "plt.xlabel('Segment')\n",
    "plt.ylabel('Total Sales')\n",
    "plt.title('Total Sales by Segment')\n",
    "plt.xticks()\n",
    "plt.tight_layout()\n",
    "\n",
    "plt.show()"
   ]
  },
  {
   "cell_type": "markdown",
   "id": "ac9dd5ac",
   "metadata": {},
   "source": [
    "With the highest total sales reaching approximately USD.1.16 million, the Consumer segment stands out as the primary contributor to overall revenue.\n",
    "The Corporate segment stands as the second-highest revenue generator with sales revenue totaling around USD.706,146.\n",
    "The Home Office segment, yielding sales revenue of roughly USD.429,653, demonstrates a comparatively lower but still substantial contribution to the superstore's total revenue."
   ]
  },
  {
   "cell_type": "code",
   "execution_count": 12,
   "id": "ec6d2528",
   "metadata": {},
   "outputs": [
    {
     "data": {
      "text/html": [
       "<div>\n",
       "<style scoped>\n",
       "    .dataframe tbody tr th:only-of-type {\n",
       "        vertical-align: middle;\n",
       "    }\n",
       "\n",
       "    .dataframe tbody tr th {\n",
       "        vertical-align: top;\n",
       "    }\n",
       "\n",
       "    .dataframe thead th {\n",
       "        text-align: right;\n",
       "    }\n",
       "</style>\n",
       "<table border=\"1\" class=\"dataframe\">\n",
       "  <thead>\n",
       "    <tr style=\"text-align: right;\">\n",
       "      <th></th>\n",
       "      <th>Segment</th>\n",
       "      <th>Profit</th>\n",
       "    </tr>\n",
       "  </thead>\n",
       "  <tbody>\n",
       "    <tr>\n",
       "      <th>0</th>\n",
       "      <td>Consumer</td>\n",
       "      <td>134119.2092</td>\n",
       "    </tr>\n",
       "    <tr>\n",
       "      <th>1</th>\n",
       "      <td>Corporate</td>\n",
       "      <td>91979.1340</td>\n",
       "    </tr>\n",
       "    <tr>\n",
       "      <th>2</th>\n",
       "      <td>Home Office</td>\n",
       "      <td>60298.6785</td>\n",
       "    </tr>\n",
       "  </tbody>\n",
       "</table>\n",
       "</div>"
      ],
      "text/plain": [
       "       Segment       Profit\n",
       "0     Consumer  134119.2092\n",
       "1    Corporate   91979.1340\n",
       "2  Home Office   60298.6785"
      ]
     },
     "execution_count": 12,
     "metadata": {},
     "output_type": "execute_result"
    }
   ],
   "source": [
    "# Grouping the data by 'Segment' and calculating the total profit for each segment\n",
    "segment_profit = df.groupby('Segment')['Profit'].sum().reset_index()\n",
    "segment_profit"
   ]
  },
  {
   "cell_type": "code",
   "execution_count": 13,
   "id": "b972f18e",
   "metadata": {},
   "outputs": [
    {
     "data": {
      "image/png": "[encoded data removed]",
      "text/plain": [
       "<Figure size 1000x800 with 1 Axes>"
      ]
     },
     "metadata": {},
     "output_type": "display_data"
    }
   ],
   "source": [
    "# Plotting the horizontal bar chart using Seaborn\n",
    "plt.figure(figsize=(10, 8))\n",
    "sns.barplot(x='Segment', y='Profit', data=segment_profit, palette='viridis')\n",
    "plt.xlabel('Segment')\n",
    "plt.ylabel('Total Profit')\n",
    "plt.title('Total Profit by Segment')\n",
    "plt.tight_layout()\n",
    "\n",
    "plt.show()"
   ]
  },
  {
   "cell_type": "markdown",
   "id": "053a8a73",
   "metadata": {},
   "source": [
    "* The Consumer segment emerges as the dominant force, contributing the highest sales revenue and achieving the highest profitability of \\\\$134,119.21. \n",
    "* In contrast, the Corporate segment, despite generating a notable sales volume, reports a comparatively lower profit of \\\\$91,979.13, suggesting a slightly lower profitability relative to sales. \n",
    "* The Home Office segment lags behind in both sales and profitability, earning \\\\$60,298.68, indicating its lower revenue contribution and more moderate profitability compared to the other segments. \n",
    "\n",
    "Overall, the Consumer segment stands out by not only leading in sales but also maintaining higher profitability relative to its sales figures."
   ]
  },
  {
   "cell_type": "code",
   "execution_count": 14,
   "id": "8546904f",
   "metadata": {},
   "outputs": [
    {
     "data": {
      "text/html": [
       "<div>\n",
       "<style scoped>\n",
       "    .dataframe tbody tr th:only-of-type {\n",
       "        vertical-align: middle;\n",
       "    }\n",
       "\n",
       "    .dataframe tbody tr th {\n",
       "        vertical-align: top;\n",
       "    }\n",
       "\n",
       "    .dataframe thead th {\n",
       "        text-align: right;\n",
       "    }\n",
       "</style>\n",
       "<table border=\"1\" class=\"dataframe\">\n",
       "  <thead>\n",
       "    <tr style=\"text-align: right;\">\n",
       "      <th></th>\n",
       "      <th>Category</th>\n",
       "      <th>Sales</th>\n",
       "    </tr>\n",
       "  </thead>\n",
       "  <tbody>\n",
       "    <tr>\n",
       "      <th>2</th>\n",
       "      <td>Technology</td>\n",
       "      <td>836154.0330</td>\n",
       "    </tr>\n",
       "    <tr>\n",
       "      <th>0</th>\n",
       "      <td>Furniture</td>\n",
       "      <td>741999.7953</td>\n",
       "    </tr>\n",
       "    <tr>\n",
       "      <th>1</th>\n",
       "      <td>Office Supplies</td>\n",
       "      <td>719047.0320</td>\n",
       "    </tr>\n",
       "  </tbody>\n",
       "</table>\n",
       "</div>"
      ],
      "text/plain": [
       "          Category        Sales\n",
       "2       Technology  836154.0330\n",
       "0        Furniture  741999.7953\n",
       "1  Office Supplies  719047.0320"
      ]
     },
     "execution_count": 14,
     "metadata": {},
     "output_type": "execute_result"
    }
   ],
   "source": [
    "# Grouping the data by 'Category' and calculating the total sales for each category\n",
    "category_sales = df.groupby('Category')['Sales'].sum().reset_index().sort_values(by='Sales', ascending=False)\n",
    "category_sales"
   ]
  },
  {
   "cell_type": "code",
   "execution_count": 15,
   "id": "6b4dd5ab",
   "metadata": {},
   "outputs": [
    {
     "data": {
      "image/png": "[encoded data removed]",
      "text/plain": [
       "<Figure size 800x600 with 1 Axes>"
      ]
     },
     "metadata": {},
     "output_type": "display_data"
    }
   ],
   "source": [
    "# Plot the bar chart\n",
    "plt.figure(figsize=(8, 6))\n",
    "sns.barplot(x='Category', y='Sales', data=category_sales, palette='viridis')\n",
    "plt.xlabel('Category')\n",
    "plt.ylabel('Total Sales')\n",
    "plt.title('Total Sales by Category')\n",
    "plt.xticks()\n",
    "plt.tight_layout()\n",
    "\n",
    "plt.show()"
   ]
  },
  {
   "cell_type": "markdown",
   "id": "de16389d",
   "metadata": {},
   "source": [
    "The Technology category emerges as the leading revenue generator with total sales reaching USD.836,154.03.\n",
    "Following closely behind, the Furniture category reports a substantial sales figure of USD.741,999.80, signifying a considerable consumer interest in furniture-related products.\n",
    "The Office Supplies category secures USD.719,047.03 in sales, slightly trailing the Furniture category, indicating a competitive position within the market.\n"
   ]
  },
  {
   "cell_type": "code",
   "execution_count": 16,
   "id": "29f8f83c",
   "metadata": {},
   "outputs": [
    {
     "data": {
      "text/html": [
       "<div>\n",
       "<style scoped>\n",
       "    .dataframe tbody tr th:only-of-type {\n",
       "        vertical-align: middle;\n",
       "    }\n",
       "\n",
       "    .dataframe tbody tr th {\n",
       "        vertical-align: top;\n",
       "    }\n",
       "\n",
       "    .dataframe thead th {\n",
       "        text-align: right;\n",
       "    }\n",
       "</style>\n",
       "<table border=\"1\" class=\"dataframe\">\n",
       "  <thead>\n",
       "    <tr style=\"text-align: right;\">\n",
       "      <th></th>\n",
       "      <th>Sub-Category</th>\n",
       "      <th>Sales</th>\n",
       "    </tr>\n",
       "  </thead>\n",
       "  <tbody>\n",
       "    <tr>\n",
       "      <th>13</th>\n",
       "      <td>Phones</td>\n",
       "      <td>330007.0540</td>\n",
       "    </tr>\n",
       "    <tr>\n",
       "      <th>5</th>\n",
       "      <td>Chairs</td>\n",
       "      <td>328449.1030</td>\n",
       "    </tr>\n",
       "    <tr>\n",
       "      <th>14</th>\n",
       "      <td>Storage</td>\n",
       "      <td>223843.6080</td>\n",
       "    </tr>\n",
       "    <tr>\n",
       "      <th>16</th>\n",
       "      <td>Tables</td>\n",
       "      <td>206965.5320</td>\n",
       "    </tr>\n",
       "    <tr>\n",
       "      <th>3</th>\n",
       "      <td>Binders</td>\n",
       "      <td>203412.7330</td>\n",
       "    </tr>\n",
       "    <tr>\n",
       "      <th>11</th>\n",
       "      <td>Machines</td>\n",
       "      <td>189238.6310</td>\n",
       "    </tr>\n",
       "    <tr>\n",
       "      <th>0</th>\n",
       "      <td>Accessories</td>\n",
       "      <td>167380.3180</td>\n",
       "    </tr>\n",
       "    <tr>\n",
       "      <th>6</th>\n",
       "      <td>Copiers</td>\n",
       "      <td>149528.0300</td>\n",
       "    </tr>\n",
       "    <tr>\n",
       "      <th>4</th>\n",
       "      <td>Bookcases</td>\n",
       "      <td>114879.9963</td>\n",
       "    </tr>\n",
       "    <tr>\n",
       "      <th>1</th>\n",
       "      <td>Appliances</td>\n",
       "      <td>107532.1610</td>\n",
       "    </tr>\n",
       "    <tr>\n",
       "      <th>9</th>\n",
       "      <td>Furnishings</td>\n",
       "      <td>91705.1640</td>\n",
       "    </tr>\n",
       "    <tr>\n",
       "      <th>12</th>\n",
       "      <td>Paper</td>\n",
       "      <td>78479.2060</td>\n",
       "    </tr>\n",
       "    <tr>\n",
       "      <th>15</th>\n",
       "      <td>Supplies</td>\n",
       "      <td>46673.5380</td>\n",
       "    </tr>\n",
       "    <tr>\n",
       "      <th>2</th>\n",
       "      <td>Art</td>\n",
       "      <td>27118.7920</td>\n",
       "    </tr>\n",
       "    <tr>\n",
       "      <th>7</th>\n",
       "      <td>Envelopes</td>\n",
       "      <td>16476.4020</td>\n",
       "    </tr>\n",
       "    <tr>\n",
       "      <th>10</th>\n",
       "      <td>Labels</td>\n",
       "      <td>12486.3120</td>\n",
       "    </tr>\n",
       "    <tr>\n",
       "      <th>8</th>\n",
       "      <td>Fasteners</td>\n",
       "      <td>3024.2800</td>\n",
       "    </tr>\n",
       "  </tbody>\n",
       "</table>\n",
       "</div>"
      ],
      "text/plain": [
       "   Sub-Category        Sales\n",
       "13       Phones  330007.0540\n",
       "5        Chairs  328449.1030\n",
       "14      Storage  223843.6080\n",
       "16       Tables  206965.5320\n",
       "3       Binders  203412.7330\n",
       "11     Machines  189238.6310\n",
       "0   Accessories  167380.3180\n",
       "6       Copiers  149528.0300\n",
       "4     Bookcases  114879.9963\n",
       "1    Appliances  107532.1610\n",
       "9   Furnishings   91705.1640\n",
       "12        Paper   78479.2060\n",
       "15     Supplies   46673.5380\n",
       "2           Art   27118.7920\n",
       "7     Envelopes   16476.4020\n",
       "10       Labels   12486.3120\n",
       "8     Fasteners    3024.2800"
      ]
     },
     "execution_count": 16,
     "metadata": {},
     "output_type": "execute_result"
    }
   ],
   "source": [
    "# Grouping the data by 'Sub-Category' and calculating the total sales for each sub-category\n",
    "subcategory_sales = df.groupby('Sub-Category')['Sales'].sum().reset_index().sort_values(by='Sales', ascending=False)\n",
    "subcategory_sales"
   ]
  },
  {
   "cell_type": "code",
   "execution_count": 17,
   "id": "2c0a841a",
   "metadata": {},
   "outputs": [
    {
     "data": {
      "image/png": "[encoded data removed]",
      "text/plain": [
       "<Figure size 1200x600 with 1 Axes>"
      ]
     },
     "metadata": {},
     "output_type": "display_data"
    }
   ],
   "source": [
    "# Plotting the bar chart using Seaborn\n",
    "plt.figure(figsize=(12, 6))\n",
    "sns.barplot(x='Sub-Category', y='Sales', data=subcategory_sales, palette='viridis')\n",
    "plt.xlabel('Sub-Category')\n",
    "plt.ylabel('Total Sales')\n",
    "plt.title('Total Sales by Sub-Category')\n",
    "plt.xticks(rotation=90)\n",
    "plt.tight_layout()\n",
    "\n",
    "plt.show()"
   ]
  },
  {
   "cell_type": "markdown",
   "id": "722276ca",
   "metadata": {},
   "source": [
    "Phones and Chairs emerge as the leading sub-categories, demonstrating remarkable sales figures of USD.330,007.05 and USD.328,449.10, respectively, showcasing their significance in driving revenue within the superstore.\n",
    "Storage and Tables secure notable sales figures of USD.223,843.61 and USD.206,965.53, respectively, emphasizing their substantial contributions to overall sales.\n",
    "Binders and Machines follow closely, reporting robust sales figures of USD.203,412.73 and USD.189,238.63, respectively.\n",
    "However, at the lower end, Labels, Fasteners, and Envelopes exhibit comparatively lower sales figures of USD.12,486.31, USD.3,024.28, and USD.16,476.40, respectively, within the sub-category sales landscape."
   ]
  },
  {
   "cell_type": "code",
   "execution_count": 18,
   "id": "811ba3fe",
   "metadata": {},
   "outputs": [
    {
     "data": {
      "text/html": [
       "<div>\n",
       "<style scoped>\n",
       "    .dataframe tbody tr th:only-of-type {\n",
       "        vertical-align: middle;\n",
       "    }\n",
       "\n",
       "    .dataframe tbody tr th {\n",
       "        vertical-align: top;\n",
       "    }\n",
       "\n",
       "    .dataframe thead th {\n",
       "        text-align: right;\n",
       "    }\n",
       "</style>\n",
       "<table border=\"1\" class=\"dataframe\">\n",
       "  <thead>\n",
       "    <tr style=\"text-align: right;\">\n",
       "      <th></th>\n",
       "      <th>Sub-Category</th>\n",
       "      <th>Profit</th>\n",
       "    </tr>\n",
       "  </thead>\n",
       "  <tbody>\n",
       "    <tr>\n",
       "      <th>6</th>\n",
       "      <td>Copiers</td>\n",
       "      <td>55617.8249</td>\n",
       "    </tr>\n",
       "    <tr>\n",
       "      <th>13</th>\n",
       "      <td>Phones</td>\n",
       "      <td>44515.7306</td>\n",
       "    </tr>\n",
       "    <tr>\n",
       "      <th>0</th>\n",
       "      <td>Accessories</td>\n",
       "      <td>41936.6357</td>\n",
       "    </tr>\n",
       "    <tr>\n",
       "      <th>12</th>\n",
       "      <td>Paper</td>\n",
       "      <td>34053.5693</td>\n",
       "    </tr>\n",
       "    <tr>\n",
       "      <th>3</th>\n",
       "      <td>Binders</td>\n",
       "      <td>30221.7633</td>\n",
       "    </tr>\n",
       "    <tr>\n",
       "      <th>5</th>\n",
       "      <td>Chairs</td>\n",
       "      <td>26590.1663</td>\n",
       "    </tr>\n",
       "    <tr>\n",
       "      <th>14</th>\n",
       "      <td>Storage</td>\n",
       "      <td>21278.8264</td>\n",
       "    </tr>\n",
       "    <tr>\n",
       "      <th>1</th>\n",
       "      <td>Appliances</td>\n",
       "      <td>18138.0054</td>\n",
       "    </tr>\n",
       "    <tr>\n",
       "      <th>9</th>\n",
       "      <td>Furnishings</td>\n",
       "      <td>13059.1436</td>\n",
       "    </tr>\n",
       "    <tr>\n",
       "      <th>7</th>\n",
       "      <td>Envelopes</td>\n",
       "      <td>6964.1767</td>\n",
       "    </tr>\n",
       "    <tr>\n",
       "      <th>2</th>\n",
       "      <td>Art</td>\n",
       "      <td>6527.7870</td>\n",
       "    </tr>\n",
       "    <tr>\n",
       "      <th>10</th>\n",
       "      <td>Labels</td>\n",
       "      <td>5546.2540</td>\n",
       "    </tr>\n",
       "    <tr>\n",
       "      <th>11</th>\n",
       "      <td>Machines</td>\n",
       "      <td>3384.7569</td>\n",
       "    </tr>\n",
       "    <tr>\n",
       "      <th>8</th>\n",
       "      <td>Fasteners</td>\n",
       "      <td>949.5182</td>\n",
       "    </tr>\n",
       "    <tr>\n",
       "      <th>15</th>\n",
       "      <td>Supplies</td>\n",
       "      <td>-1189.0995</td>\n",
       "    </tr>\n",
       "    <tr>\n",
       "      <th>4</th>\n",
       "      <td>Bookcases</td>\n",
       "      <td>-3472.5560</td>\n",
       "    </tr>\n",
       "    <tr>\n",
       "      <th>16</th>\n",
       "      <td>Tables</td>\n",
       "      <td>-17725.4811</td>\n",
       "    </tr>\n",
       "  </tbody>\n",
       "</table>\n",
       "</div>"
      ],
      "text/plain": [
       "   Sub-Category      Profit\n",
       "6       Copiers  55617.8249\n",
       "13       Phones  44515.7306\n",
       "0   Accessories  41936.6357\n",
       "12        Paper  34053.5693\n",
       "3       Binders  30221.7633\n",
       "5        Chairs  26590.1663\n",
       "14      Storage  21278.8264\n",
       "1    Appliances  18138.0054\n",
       "9   Furnishings  13059.1436\n",
       "7     Envelopes   6964.1767\n",
       "2           Art   6527.7870\n",
       "10       Labels   5546.2540\n",
       "11     Machines   3384.7569\n",
       "8     Fasteners    949.5182\n",
       "15     Supplies  -1189.0995\n",
       "4     Bookcases  -3472.5560\n",
       "16       Tables -17725.4811"
      ]
     },
     "execution_count": 18,
     "metadata": {},
     "output_type": "execute_result"
    }
   ],
   "source": [
    "# Grouping the data by 'Sub-Category' and calculating the total profit for each sub-category\n",
    "subcategory_profit = df.groupby('Sub-Category')['Profit'].sum().reset_index().sort_values(by='Profit', ascending=False)\n",
    "subcategory_profit"
   ]
  },
  {
   "cell_type": "code",
   "execution_count": 19,
   "id": "e8750b60",
   "metadata": {},
   "outputs": [
    {
     "data": {
      "image/png": "[encoded data removed]",
      "text/plain": [
       "<Figure size 1200x600 with 1 Axes>"
      ]
     },
     "metadata": {},
     "output_type": "display_data"
    }
   ],
   "source": [
    "# Plotting the bar chart using Seaborn\n",
    "plt.figure(figsize=(12, 6))\n",
    "sns.barplot(x='Sub-Category', y='Profit', data=subcategory_profit, palette='viridis')\n",
    "plt.xlabel('Sub-Category')\n",
    "plt.ylabel('Total Profit')\n",
    "plt.title('Total Profit by Sub-Category')\n",
    "plt.xticks(rotation=90)\n",
    "plt.tight_layout()\n",
    "\n",
    "plt.show()"
   ]
  },
  {
   "cell_type": "markdown",
   "id": "c5dc9a3c",
   "metadata": {},
   "source": [
    "* Copiers emerge as the most profitable sub-category, generating a substantial profit of \\\\USD.55,617.82, indicating robust financial success and higher profit margins within this product sector. \n",
    "* Phones and Accessories follow closely, reporting profits of \\\\USD.44,515.73 and \\\\USD.41,936.64, respectively, showcasing strong profitability within these categories. \n",
    "* Notably, Paper, Binders, and Chairs also demonstrate respectable profitability, reporting profits of \\\\USD.34,053.57, \\\\USD.30,221.76, and \\\\USD.26,590.17, respectively. \n",
    "* However, some sub-categories, such as Supplies, Bookcases, and Tables, incur losses, indicating negative profit margins in these product sectors. "
   ]
  },
  {
   "cell_type": "code",
   "execution_count": 20,
   "id": "0146057f",
   "metadata": {},
   "outputs": [
    {
     "data": {
      "text/html": [
       "<div>\n",
       "<style scoped>\n",
       "    .dataframe tbody tr th:only-of-type {\n",
       "        vertical-align: middle;\n",
       "    }\n",
       "\n",
       "    .dataframe tbody tr th {\n",
       "        vertical-align: top;\n",
       "    }\n",
       "\n",
       "    .dataframe thead th {\n",
       "        text-align: right;\n",
       "    }\n",
       "</style>\n",
       "<table border=\"1\" class=\"dataframe\">\n",
       "  <thead>\n",
       "    <tr style=\"text-align: right;\">\n",
       "      <th></th>\n",
       "      <th>State</th>\n",
       "      <th>Sales</th>\n",
       "    </tr>\n",
       "  </thead>\n",
       "  <tbody>\n",
       "    <tr>\n",
       "      <th>3</th>\n",
       "      <td>California</td>\n",
       "      <td>457687.6315</td>\n",
       "    </tr>\n",
       "    <tr>\n",
       "      <th>30</th>\n",
       "      <td>New York</td>\n",
       "      <td>310876.2710</td>\n",
       "    </tr>\n",
       "    <tr>\n",
       "      <th>41</th>\n",
       "      <td>Texas</td>\n",
       "      <td>170188.0458</td>\n",
       "    </tr>\n",
       "    <tr>\n",
       "      <th>45</th>\n",
       "      <td>Washington</td>\n",
       "      <td>138641.2700</td>\n",
       "    </tr>\n",
       "    <tr>\n",
       "      <th>36</th>\n",
       "      <td>Pennsylvania</td>\n",
       "      <td>116511.9140</td>\n",
       "    </tr>\n",
       "    <tr>\n",
       "      <th>8</th>\n",
       "      <td>Florida</td>\n",
       "      <td>89473.7080</td>\n",
       "    </tr>\n",
       "    <tr>\n",
       "      <th>11</th>\n",
       "      <td>Illinois</td>\n",
       "      <td>80166.1010</td>\n",
       "    </tr>\n",
       "    <tr>\n",
       "      <th>33</th>\n",
       "      <td>Ohio</td>\n",
       "      <td>78258.1360</td>\n",
       "    </tr>\n",
       "    <tr>\n",
       "      <th>20</th>\n",
       "      <td>Michigan</td>\n",
       "      <td>76269.6140</td>\n",
       "    </tr>\n",
       "    <tr>\n",
       "      <th>44</th>\n",
       "      <td>Virginia</td>\n",
       "      <td>70636.7200</td>\n",
       "    </tr>\n",
       "  </tbody>\n",
       "</table>\n",
       "</div>"
      ],
      "text/plain": [
       "           State        Sales\n",
       "3     California  457687.6315\n",
       "30      New York  310876.2710\n",
       "41         Texas  170188.0458\n",
       "45    Washington  138641.2700\n",
       "36  Pennsylvania  116511.9140\n",
       "8        Florida   89473.7080\n",
       "11      Illinois   80166.1010\n",
       "33          Ohio   78258.1360\n",
       "20      Michigan   76269.6140\n",
       "44      Virginia   70636.7200"
      ]
     },
     "execution_count": 20,
     "metadata": {},
     "output_type": "execute_result"
    }
   ],
   "source": [
    "# Grouping the data by 'State' and calculating the total sales for each state\n",
    "state_sales = df.groupby('State')['Sales'].sum().reset_index().nlargest(10, 'Sales')\n",
    "state_sales"
   ]
  },
  {
   "cell_type": "code",
   "execution_count": 21,
   "id": "a4f39a6e",
   "metadata": {},
   "outputs": [
    {
     "data": {
      "image/png": "[encoded data removed]",
      "text/plain": [
       "<Figure size 1000x800 with 1 Axes>"
      ]
     },
     "metadata": {},
     "output_type": "display_data"
    }
   ],
   "source": [
    "# Plotting the horizontal bar chart using Seaborn\n",
    "plt.figure(figsize=(10, 8))\n",
    "sns.barplot(x='State', y='Sales', data=state_sales, palette='viridis')\n",
    "plt.xlabel('State')\n",
    "plt.ylabel('Total Sales')\n",
    "plt.title('Top 10 States by Sales (Descending Order)')\n",
    "plt.tight_layout()\n",
    "\n",
    "plt.show()"
   ]
  },
  {
   "cell_type": "markdown",
   "id": "de689447",
   "metadata": {},
   "source": [
    "California emerges as the top-performing state in terms of sales revenue, generating a substantial sales figure of USD.457,687.63, showcasing its significance in driving revenue for the superstore. Following closely behind, New York reports significant sales of USD.310,876.27, securing a prominent position in sales performance among the states. Texas and Washington also demonstrate respectable sales figures, contributing USD.170,188.05 and USD.138,641.27, respectively, to the superstore's overall sales revenue. Pennsylvania, Florida, Illinois, Ohio, Michigan, and Virginia round out the top 10 states in terms of sales, each displaying notable but comparatively lower sales figures."
   ]
  },
  {
   "cell_type": "markdown",
   "id": "7dc17740",
   "metadata": {},
   "source": [
    "## Data Preprocessing"
   ]
  },
  {
   "cell_type": "code",
   "execution_count": 22,
   "id": "000125ae",
   "metadata": {},
   "outputs": [
    {
     "data": {
      "text/html": [
       "<div>\n",
       "<style scoped>\n",
       "    .dataframe tbody tr th:only-of-type {\n",
       "        vertical-align: middle;\n",
       "    }\n",
       "\n",
       "    .dataframe tbody tr th {\n",
       "        vertical-align: top;\n",
       "    }\n",
       "\n",
       "    .dataframe thead th {\n",
       "        text-align: right;\n",
       "    }\n",
       "</style>\n",
       "<table border=\"1\" class=\"dataframe\">\n",
       "  <thead>\n",
       "    <tr style=\"text-align: right;\">\n",
       "      <th></th>\n",
       "      <th>Order Date</th>\n",
       "      <th>Sales</th>\n",
       "    </tr>\n",
       "  </thead>\n",
       "  <tbody>\n",
       "    <tr>\n",
       "      <th>0</th>\n",
       "      <td>2016-11-08</td>\n",
       "      <td>261.9600</td>\n",
       "    </tr>\n",
       "    <tr>\n",
       "      <th>1</th>\n",
       "      <td>2016-11-08</td>\n",
       "      <td>731.9400</td>\n",
       "    </tr>\n",
       "    <tr>\n",
       "      <th>2</th>\n",
       "      <td>2016-06-12</td>\n",
       "      <td>14.6200</td>\n",
       "    </tr>\n",
       "    <tr>\n",
       "      <th>3</th>\n",
       "      <td>2015-10-11</td>\n",
       "      <td>957.5775</td>\n",
       "    </tr>\n",
       "    <tr>\n",
       "      <th>4</th>\n",
       "      <td>2015-10-11</td>\n",
       "      <td>22.3680</td>\n",
       "    </tr>\n",
       "  </tbody>\n",
       "</table>\n",
       "</div>"
      ],
      "text/plain": [
       "  Order Date     Sales\n",
       "0 2016-11-08  261.9600\n",
       "1 2016-11-08  731.9400\n",
       "2 2016-06-12   14.6200\n",
       "3 2015-10-11  957.5775\n",
       "4 2015-10-11   22.3680"
      ]
     },
     "execution_count": 22,
     "metadata": {},
     "output_type": "execute_result"
    }
   ],
   "source": [
    "# Dropping columns that are not required\n",
    "data = df[['Order Date','Sales']]\n",
    "data.head()"
   ]
  },
  {
   "cell_type": "markdown",
   "id": "43f292c1",
   "metadata": {},
   "source": [
    "The main objective of this study is to forecast sales. This is why we keep the sales column.\n",
    "We drop ship date and remain with order date. According to Accrual principle in accounting revenue or expenses are recorded when a transaction occurs not when payment is received or made. We therefore consider sale upon order not at point of delivery or payment."
   ]
  },
  {
   "cell_type": "code",
   "execution_count": 23,
   "id": "5b8e9d1b",
   "metadata": {},
   "outputs": [
    {
     "data": {
      "text/html": [
       "<div>\n",
       "<style scoped>\n",
       "    .dataframe tbody tr th:only-of-type {\n",
       "        vertical-align: middle;\n",
       "    }\n",
       "\n",
       "    .dataframe tbody tr th {\n",
       "        vertical-align: top;\n",
       "    }\n",
       "\n",
       "    .dataframe thead th {\n",
       "        text-align: right;\n",
       "    }\n",
       "</style>\n",
       "<table border=\"1\" class=\"dataframe\">\n",
       "  <thead>\n",
       "    <tr style=\"text-align: right;\">\n",
       "      <th></th>\n",
       "      <th>Sales</th>\n",
       "    </tr>\n",
       "    <tr>\n",
       "      <th>Order Date</th>\n",
       "      <th></th>\n",
       "    </tr>\n",
       "  </thead>\n",
       "  <tbody>\n",
       "    <tr>\n",
       "      <th>2016-11-08</th>\n",
       "      <td>261.9600</td>\n",
       "    </tr>\n",
       "    <tr>\n",
       "      <th>2016-11-08</th>\n",
       "      <td>731.9400</td>\n",
       "    </tr>\n",
       "    <tr>\n",
       "      <th>2016-06-12</th>\n",
       "      <td>14.6200</td>\n",
       "    </tr>\n",
       "    <tr>\n",
       "      <th>2015-10-11</th>\n",
       "      <td>957.5775</td>\n",
       "    </tr>\n",
       "    <tr>\n",
       "      <th>2015-10-11</th>\n",
       "      <td>22.3680</td>\n",
       "    </tr>\n",
       "  </tbody>\n",
       "</table>\n",
       "</div>"
      ],
      "text/plain": [
       "               Sales\n",
       "Order Date          \n",
       "2016-11-08  261.9600\n",
       "2016-11-08  731.9400\n",
       "2016-06-12   14.6200\n",
       "2015-10-11  957.5775\n",
       "2015-10-11   22.3680"
      ]
     },
     "execution_count": 23,
     "metadata": {},
     "output_type": "execute_result"
    }
   ],
   "source": [
    "#Setting Order Date as index\n",
    "data.set_index('Order Date',inplace=True)\n",
    "data.head()"
   ]
  },
  {
   "cell_type": "code",
   "execution_count": null,
   "id": "6865e111",
   "metadata": {},
   "outputs": [],
   "source": [
    "#Visualizing the dataset using lineplot\n",
    "sns.lineplot(data)"
   ]
  },
  {
   "cell_type": "code",
   "execution_count": null,
   "id": "fc6958da",
   "metadata": {},
   "outputs": [],
   "source": [
    "#To remove noise in our dataset by resampling. \n",
    "# Where you decrease the frequency of the sales, such as from days to months\n",
    "monthly_data = data.resample('MS').mean()\n",
    "monthly_data.head()"
   ]
  },
  {
   "cell_type": "code",
   "execution_count": null,
   "id": "7ecfe3dd",
   "metadata": {
    "scrolled": true
   },
   "outputs": [],
   "source": [
    "#Visualizing the monthly sales dataset using lineplot\n",
    "sns.lineplot(monthly_data)"
   ]
  },
  {
   "cell_type": "code",
   "execution_count": null,
   "id": "af1d614a",
   "metadata": {},
   "outputs": [],
   "source": [
    "# visualizing the distribution of the dataset\n",
    "sns.displot(monthly_data, kde=True)"
   ]
  },
  {
   "cell_type": "markdown",
   "id": "0a55f4b2",
   "metadata": {},
   "source": [
    "### Checking for Trend"
   ]
  },
  {
   "cell_type": "code",
   "execution_count": null,
   "id": "07012828",
   "metadata": {},
   "outputs": [],
   "source": [
    "# Checking for trend using rolling mean\n",
    "rolling_mean = monthly_data.rolling(window=6).mean()"
   ]
  },
  {
   "cell_type": "code",
   "execution_count": null,
   "id": "4db19611",
   "metadata": {},
   "outputs": [],
   "source": [
    "# comparing the two lineplot\n",
    "sns.lineplot(monthly_data, x=\"Order Date\",y=\"Sales\", color='green')\n",
    "sns.lineplot(rolling_mean)"
   ]
  },
  {
   "cell_type": "markdown",
   "id": "0d34da9c",
   "metadata": {},
   "source": [
    "### Testing for trends/stationarity"
   ]
  },
  {
   "cell_type": "code",
   "execution_count": null,
   "id": "e35a9fab",
   "metadata": {},
   "outputs": [],
   "source": [
    "#Checking for sattionarity using dickyfuller test on monthly data\n",
    "import statsmodels.api as sm\n",
    "decomposition = sm.tsa.seasonal_decompose(monthly_data, model ='additive')\n",
    "figure = decomposition.plot()\n",
    "plt.show()"
   ]
  },
  {
   "cell_type": "markdown",
   "id": "07d14ccb",
   "metadata": {},
   "source": [
    "In the seasonal component there is are periodic patterns therefore suggesting the presence of seasonality in the time series."
   ]
  },
  {
   "cell_type": "code",
   "execution_count": null,
   "id": "b549f9fc",
   "metadata": {},
   "outputs": [],
   "source": [
    "output  = adfuller(monthly_data)\n",
    "output"
   ]
  },
  {
   "cell_type": "markdown",
   "id": "b8ef7371",
   "metadata": {},
   "source": [
    "*_Ho_ : it is non-stationary                                                                                   \n",
    "*_H1_ : it is stationary                                                                                       \n",
    "If p< 0.05 ; Data is stationary                                                                               \n",
    "if p>0.05; Data is not stationary                                                                             \n",
    "Since the p-value is 0.00020180198458237758 ,which is less than 0.05 we conclude that the data is stationary"
   ]
  },
  {
   "cell_type": "markdown",
   "id": "b4646cf1",
   "metadata": {},
   "source": [
    "### Plotting ACF and PACF"
   ]
  },
  {
   "cell_type": "code",
   "execution_count": null,
   "id": "ea72636a",
   "metadata": {},
   "outputs": [],
   "source": [
    "from statsmodels.graphics.tsaplots import plot_acf, plot_pacf\n",
    "\n",
    "# Plot ACF\n",
    "plt.figure(figsize=(12, 4))\n",
    "plot_acf(monthly_data, lags=30, ax=plt.gca())\n",
    "plt.title('Autocorrelation Function (ACF)')\n",
    "plt.show()\n",
    "\n",
    "# Plot PACF\n",
    "plt.figure(figsize=(12, 4))\n",
    "plot_pacf(monthly_data, lags=22, ax=plt.gca())\n",
    "plt.title('Partial Autocorrelation Function (PACF)')\n",
    "plt.show()"
   ]
  },
  {
   "cell_type": "markdown",
   "id": "bd7bd522",
   "metadata": {},
   "source": [
    "### Train Test Split"
   ]
  },
  {
   "cell_type": "code",
   "execution_count": null,
   "id": "ac464ca7",
   "metadata": {},
   "outputs": [],
   "source": [
    "# Train test split for our monthly sales data\n",
    "# Choose a split date\n",
    "split_date = monthly_data.tail(12).index[0].strftime('%m/%d/%Y') # Get the top 12th index as a string\n",
    "\n",
    "# Split train and test data\n",
    "train_data = monthly_data[monthly_data.index < split_date]\n",
    "test_data = monthly_data[monthly_data.index >= split_date]"
   ]
  },
  {
   "cell_type": "markdown",
   "id": "50ef5d60",
   "metadata": {},
   "source": [
    "## Modelling"
   ]
  },
  {
   "cell_type": "markdown",
   "id": "c007448e",
   "metadata": {},
   "source": [
    "### ARIMA Model"
   ]
  },
  {
   "cell_type": "code",
   "execution_count": null,
   "id": "82286f7d",
   "metadata": {},
   "outputs": [],
   "source": [
    "# Checking for best Arima Order\n",
    "\n",
    "# Reset the index to make 'Order Date' a column\n",
    "monthly_data = monthly_data.reset_index()\n",
    "\n",
    "# Fit ARIMA models with different orders\n",
    "p_values = range(3)  \n",
    "q_values = range(3)  \n",
    "\n",
    "best_aic = np.inf\n",
    "best_order = None\n",
    "\n",
    "for p in p_values:\n",
    "    for q in q_values:\n",
    "        order = (p, 0, q)  # ARIMA model order with differencing (d=0)\n",
    "        model = ARIMA(monthly_data['Sales'], order=order)\n",
    "        results = model.fit()\n",
    "\n",
    "        # Evaluate model using AIC\n",
    "        aic = results.aic\n",
    "        if aic < best_aic:\n",
    "            best_aic = aic\n",
    "            best_order = order\n",
    "\n",
    "# Display the best order and AIC\n",
    "print(f\"Best ARIMA Order: {best_order}\")\n",
    "print(f\"AIC for the Best Model: {best_aic}\")"
   ]
  },
  {
   "cell_type": "code",
   "execution_count": null,
   "id": "0d9f0e21",
   "metadata": {
    "scrolled": true
   },
   "outputs": [],
   "source": [
    "# Set best order as the values obtained\n",
    "best_order = (1, 0, 1)  \n",
    "\n",
    "# Fit ARIMA model with the best orders\n",
    "arima_model = ARIMA(monthly_data['Sales'], order=best_order)\n",
    "arima_fit = arima_model.fit()\n",
    "\n",
    "# Display the summary of the model\n",
    "print(arima_fit.summary())"
   ]
  },
  {
   "cell_type": "markdown",
   "id": "96f3cdbe",
   "metadata": {},
   "source": [
    "**Building and testing ARIMA model using Train-Test Split**"
   ]
  },
  {
   "cell_type": "code",
   "execution_count": null,
   "id": "008bd3d7",
   "metadata": {
    "scrolled": true
   },
   "outputs": [],
   "source": [
    "# Fit ARIMA model with the best orders on train set\n",
    "arima_model = ARIMA(train_data, order=best_order)\n",
    "arima_fit2 = arima_model.fit()\n",
    "\n",
    "# Display the summary of the model\n",
    "print(arima_fit2.summary())\n",
    "\n",
    "# Get the last date in the training data\n",
    "last_date_train = train_data.index[-1]\n",
    "\n",
    "# Determine the number of months for the forecast\n",
    "forecast_months = len(test_data)\n",
    "\n",
    "# Forecast start date and end date adjustment by months\n",
    "forecast_start_date = last_date_train + pd.DateOffset(months=1)\n",
    "forecast_end_date = forecast_start_date + pd.DateOffset(months=forecast_months-1)\n",
    "# Forecast for the specific date range\n",
    "arima_pred = arima_fit2.predict(start=forecast_start_date, end=forecast_end_date)\n",
    "\n",
    "#Calculating the MSE & RMSE\n",
    "from sklearn.metrics import mean_squared_error\n",
    "from math import sqrt\n",
    "mse_arima= mean_squared_error(test_data,arima_pred)\n",
    "rmse_arima = sqrt(mean_squared_error(test_data,arima_pred))\n",
    "print(\"\\n\")\n",
    "print(f\"ARIMA Model - MSE: {mse_arima:.2f}, RMSE: {rmse_arima:.2f}\")\n",
    "\n",
    "# Plot forecasts against actual outcomes\n",
    "test_data.plot(label= 'test series')\n",
    "arima_pred.plot(color='red', label='predicted series')\n",
    "plt.legend()\n",
    "plt.show()"
   ]
  },
  {
   "cell_type": "markdown",
   "id": "eeb4d69f",
   "metadata": {},
   "source": [
    "### PMDARIMA Model"
   ]
  },
  {
   "cell_type": "markdown",
   "id": "b0c637b6",
   "metadata": {},
   "source": [
    "**Building and testing PMDARIMA model using Train-Test Split**"
   ]
  },
  {
   "cell_type": "code",
   "execution_count": null,
   "id": "a0a06060",
   "metadata": {
    "scrolled": true
   },
   "outputs": [],
   "source": [
    "## Building and testing PMDARIMA model using Train-Test Split\n",
    "from pmdarima import auto_arima\n",
    "pmdarima_model = auto_arima(train_data, seasonal=True, m=12)\n",
    "print(pmdarima_model.summary())\n",
    "predictions, conf_int =pmdarima_model.predict(n_periods=len(test_data), return_conf_int=True)\n",
    "\n",
    "#Calculating the MSE & RMSE\n",
    "mse_pmdarima= mean_squared_error(test_data,predictions)\n",
    "rmse_pmdarima = sqrt(mean_squared_error(test_data,predictions))\n",
    "print(\"\\n\")\n",
    "print(f\"PMDARIMA Model - MSE: {mse_pmdarima:.2f}, RMSE: {rmse_pmdarima:.2f}\")\n",
    "\n",
    "# plotting the test set(actual) and predict model(frecast) to see a comparisson\n",
    "# Plot forecasts against actual outcomes\n",
    "plt.plot(train_data.index, train_data, label='Training Data')\n",
    "plt.plot(test_data.index, test_data, label='Test Data')\n",
    "plt.plot(test_data.index, predictions, label='Predictions', color='red')\n",
    "plt.fill_between(test_data.index, conf_int[:, 0], conf_int[:, 1], color='red', alpha=0.2, label='Confidence Interval')\n",
    "plt.legend()\n",
    "plt.show()"
   ]
  },
  {
   "cell_type": "markdown",
   "id": "39df583e",
   "metadata": {},
   "source": [
    "### Facebook Prophet Model"
   ]
  },
  {
   "cell_type": "code",
   "execution_count": null,
   "id": "a566465a",
   "metadata": {},
   "outputs": [],
   "source": [
    "# Prepare the data in the required format for Prophet\n",
    "#monthly_data.reset_index(inplace=True)\n",
    "prophet_df = pd.DataFrame({'ds': monthly_data['Order Date'], 'y': monthly_data['Sales']})\n",
    "# Initialize and fit the Prophet model\n",
    "prophet_model = Prophet()\n",
    "#prophet_model.fit(prophet_df)\n",
    "# Create a DataFrame with future dates for prediction\n",
    "#future = model.make_future_dataframe(periods=12, freq='MS')  \n"
   ]
  },
  {
   "cell_type": "code",
   "execution_count": null,
   "id": "bf32aaa6",
   "metadata": {},
   "outputs": [],
   "source": [
    "#Splitting train and test data\n",
    "len(prophet_df)\n",
    "prophet_train = prophet_df.iloc[:len(prophet_df)-12]\n",
    "prophet_test = prophet_df.iloc[len(prophet_df)-12:]\n",
    "\n",
    "# Making predictions\n",
    "prophet_model = Prophet()\n",
    "prophet_model.fit(prophet_train)\n",
    "future = prophet_model.make_future_dataframe(periods=24 ,freq='MS')  \n",
    "facebook_pred=prophet_model.predict(future)"
   ]
  },
  {
   "cell_type": "code",
   "execution_count": null,
   "id": "82dbcabc",
   "metadata": {},
   "outputs": [],
   "source": [
    "facebook_pred.tail(5)"
   ]
  },
  {
   "cell_type": "code",
   "execution_count": null,
   "id": "1b2a315f",
   "metadata": {
    "scrolled": true
   },
   "outputs": [],
   "source": [
    "facebook_pred.tail(5)"
   ]
  },
  {
   "cell_type": "code",
   "execution_count": null,
   "id": "df341bd7",
   "metadata": {
    "scrolled": true
   },
   "outputs": [],
   "source": [
    "# Plot the original data and the forecast\n",
    "from prophet.plot import plot_plotly, plot_components_plotly\n",
    "fig = prophet_model.plot(facebook_pred, xlabel='Order Date', ylabel='Sales')\n",
    "plt.show()"
   ]
  },
  {
   "cell_type": "code",
   "execution_count": null,
   "id": "244dbbea",
   "metadata": {},
   "outputs": [],
   "source": [
    "# Change the index of forecasted series\n",
    "# Extract the predicted values from the forecast\n",
    "y_pred = facebook_pred['yhat'].tail(len(prophet_test))\n",
    "\n",
    "# Extract the actual values from the test set\n",
    "y_true = prophet_test['y'].values\n",
    "\n",
    "# Calculate MSE & RMSE\n",
    "mse_fb_prophet= mean_squared_error(y_true, y_pred)\n",
    "rmse_fb_prophet = sqrt(mean_squared_error(y_true, y_pred))\n",
    "print(\"\\n\")\n",
    "print(f\"Facebook Prophet Model - MSE: {mse_fb_prophet:.2f}, RMSE: {rmse_fb_prophet:.2f}\")"
   ]
  },
  {
   "cell_type": "code",
   "execution_count": null,
   "id": "3766d7c9",
   "metadata": {},
   "outputs": [],
   "source": [
    "print(f\"Facebook Prophet Model - MSE: {mse_fb_prophet:.2f}, RMSE: {rmse_fb_prophet:.2f}\")\n",
    "print(f\"PMDARIMA Model - MSE: {mse_pmdarima:.2f}, RMSE: {rmse_pmdarima:.2f}\")\n",
    "print(f\"ARIMA Model - MSE: {mse_arima:.2f}, RMSE: {rmse_arima:.2f}\")"
   ]
  },
  {
   "cell_type": "markdown",
   "id": "eef290ab",
   "metadata": {},
   "source": [
    "## Findings"
   ]
  },
  {
   "cell_type": "markdown",
   "id": "fdf1db6f",
   "metadata": {},
   "source": [
    "Based on the provided analysis, the model evaluation metrics for the three models are as follows:\n",
    "\n",
    "ARIMA Model:\n",
    "\n",
    "Best ARIMA Order: (0, 1, 1)\n",
    "AIC: 505.25\n",
    "MSE: 1707.47\n",
    "RMSE: 41.32\n",
    "\n",
    "PMDARIMA Model:\n",
    "AIC: 387.39\n",
    "MSE: 1640.99\n",
    "RMSE: 40.51\n",
    "Facebook Prophet Model:\n",
    "\n",
    "MSE: 2544.91\n",
    "RMSE: 50.45\n",
    "Given the MSE and RMSE values, the PMDARIMA model is the best model because it has the lowest  MSE and RMSE values.Arima Model is the second best model then followed by  Facebook Prophet model. Facebook prophet model on the other hand, has higher MSE and RMSE values, indicating higher prediction errors compared to the ARIMA models.\n",
    "\n",
    "Therefore, based on the provided metrics,PMDARIMA model is the best choice for this specific forecasting task. Further analysis and consideration of additional factors could help make a more informed decision."
   ]
  },
  {
   "cell_type": "markdown",
   "id": "636c1f49",
   "metadata": {},
   "source": [
    "## Recommendations"
   ]
  },
  {
   "cell_type": "markdown",
   "id": "afd61e0c",
   "metadata": {},
   "source": [
    "This study recommends:\n",
    "Increased use of digital marketting strategy to promote sales in future.             \n",
    "The sales team should also consider discounts in future so as to entice customers thereby increasing sales.\n",
    "Since there is probability of decline in sales in the future, the Company should avoid overstocking.\n",
    "Further analysis and consideration of additional factors could help make a more informed decision."
   ]
  }
 ],
 "metadata": {
  "kernelspec": {
   "display_name": "Python (learn-env)",
   "language": "python",
   "name": "learn-env"
  },
  "language_info": {
   "codemirror_mode": {
    "name": "ipython",
    "version": 3
   },
   "file_extension": ".py",
   "mimetype": "text/x-python",
   "name": "python",
   "nbconvert_exporter": "python",
   "pygments_lexer": "ipython3",
   "version": "3.11.5"
  },
  "toc": {
   "base_numbering": 1,
   "nav_menu": {},
   "number_sections": true,
   "sideBar": true,
   "skip_h1_title": false,
   "title_cell": "Table of Contents",
   "title_sidebar": "Contents",
   "toc_cell": false,
   "toc_position": {
    "height": "calc(100% - 180px)",
    "left": "10px",
    "top": "150px",
    "width": "173.665px"
   },
   "toc_section_display": true,
   "toc_window_display": true
  }
 },
 "nbformat": 4,
 "nbformat_minor": 5
}
